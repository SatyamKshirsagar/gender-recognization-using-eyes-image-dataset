{
 "cells": [
  {
   "cell_type": "markdown",
   "id": "9f04eed7-2fb4-43a3-9884-18883ce2986c",
   "metadata": {},
   "source": [
    "### gender recognization using eyes photosets"
   ]
  },
  {
   "cell_type": "code",
   "execution_count": null,
   "id": "831fb1b1-d54a-45b3-92d0-bcb9539419f4",
   "metadata": {},
   "outputs": [],
   "source": []
  },
  {
   "cell_type": "code",
   "execution_count": 1,
   "id": "a493aa16-3cf1-46a9-bc7b-7f9a9e6e7b73",
   "metadata": {},
   "outputs": [],
   "source": [
    "import pandas as pd\n",
    "import matplotlib.pyplot as plt\n",
    "import os\n",
    "import cv2"
   ]
  },
  {
   "cell_type": "code",
   "execution_count": 2,
   "id": "caa0c7b6-244a-4459-aa9e-10ba998d2ed8",
   "metadata": {},
   "outputs": [],
   "source": [
    "# here we have import all the required libraries for datareading"
   ]
  },
  {
   "cell_type": "code",
   "execution_count": 3,
   "id": "bb7ebfe6-3078-423b-b15c-b17e5dc1ffbb",
   "metadata": {},
   "outputs": [],
   "source": [
    "path1=r\"d:\\eyes\"\n",
    "categiry=['maleeyes','femaleeyes']"
   ]
  },
  {
   "cell_type": "code",
   "execution_count": 4,
   "id": "0a26f175-87f3-4a6d-b7d6-38c563891f55",
   "metadata": {},
   "outputs": [],
   "source": [
    "# we have decleared the path for os to follow"
   ]
  },
  {
   "cell_type": "code",
   "execution_count": 5,
   "id": "09d7c3b4-be50-4cc2-9aa0-7aec90cf1f3d",
   "metadata": {},
   "outputs": [
    {
     "name": "stdout",
     "output_type": "stream",
     "text": [
      "0\n",
      "1\n"
     ]
    }
   ],
   "source": [
    "for i in categiry:\n",
    "    print(categiry.index(i))\n",
    "    "
   ]
  },
  {
   "cell_type": "code",
   "execution_count": 6,
   "id": "a5ab2bdd-b073-4da7-9adc-94e1ec32913f",
   "metadata": {},
   "outputs": [],
   "source": [
    " # we have set targets as 0 for maleeye,1 for femaleeye"
   ]
  },
  {
   "cell_type": "code",
   "execution_count": 7,
   "id": "bc9628f9-185a-4ad2-b3cd-22719f36fcb7",
   "metadata": {},
   "outputs": [
    {
     "data": {
      "image/png": "[encoded data removed]",
      "text/plain": [
       "<Figure size 432x288 with 1 Axes>"
      ]
     },
     "metadata": {
      "needs_background": "light"
     },
     "output_type": "display_data"
    }
   ],
   "source": [
    "for i in categiry:\n",
    "    path2=os.path.join(path1,i)\n",
    "    path3=os.listdir(path2)\n",
    "    for img in path3:\n",
    "        img_path=os.path.join(path2,img)\n",
    "        img_array=cv2.imread(img_path)\n",
    "        plt.imshow(img_array)\n",
    "        break\n",
    "        #print(img_path)\n",
    "        "
   ]
  },
  {
   "cell_type": "code",
   "execution_count": 8,
   "id": "c944f04f-dfd4-406b-bb8a-88d20c361ec2",
   "metadata": {},
   "outputs": [],
   "source": [
    "# here we could actually read the sample image stored in d_drive "
   ]
  },
  {
   "cell_type": "code",
   "execution_count": 9,
   "id": "aa95b280-1f8d-425e-b3a5-2688f3f1f8f1",
   "metadata": {},
   "outputs": [],
   "source": [
    "final_img=[]\n",
    "for i in categiry:\n",
    "    target=categiry.index(i)\n",
    "    path2=os.path.join(path1,i)\n",
    "    path3=os.listdir(path2)\n",
    "    for img in path3:\n",
    "        img_path=os.path.join(path2,img)\n",
    "        img_array=cv2.imread(img_path)\n",
    "        final_array=cv2.resize(img_array,(50,50))\n",
    "        final_img.append([final_array,target])\n",
    "        \n",
    "        #plt.imshow(img_array)\n",
    "        \n",
    "        \n",
    "        "
   ]
  },
  {
   "cell_type": "code",
   "execution_count": 10,
   "id": "feb7c7ea-43c3-4d6c-879c-7f2ba19d8fef",
   "metadata": {},
   "outputs": [],
   "source": [
    "# in the above this step we have converted the image to array of pixels using cv2 library and converted all \n",
    "# the images of varying size to one fix size of (50*50). then we have appended array and target in final_img list\n",
    " "
   ]
  },
  {
   "cell_type": "code",
   "execution_count": 11,
   "id": "fd712445-08ca-4d61-b1b2-2a56f2cabebc",
   "metadata": {},
   "outputs": [
    {
     "data": {
      "text/plain": [
       "[array([[[248, 242, 237],\n",
       "         [247, 240, 236],\n",
       "         [247, 240, 239],\n",
       "         ...,\n",
       "         [254, 254, 254],\n",
       "         [255, 255, 255],\n",
       "         [254, 254, 254]],\n",
       " \n",
       "        [[250, 243, 238],\n",
       "         [248, 241, 237],\n",
       "         [245, 237, 234],\n",
       "         ...,\n",
       "         [255, 255, 255],\n",
       "         [255, 255, 255],\n",
       "         [255, 255, 255]],\n",
       " \n",
       "        [[246, 238, 232],\n",
       "         [250, 241, 236],\n",
       "         [247, 238, 235],\n",
       "         ...,\n",
       "         [255, 255, 255],\n",
       "         [254, 254, 254],\n",
       "         [254, 254, 254]],\n",
       " \n",
       "        ...,\n",
       " \n",
       "        [[255, 254, 255],\n",
       "         [254, 253, 254],\n",
       "         [255, 255, 255],\n",
       "         ...,\n",
       "         [255, 255, 255],\n",
       "         [255, 255, 255],\n",
       "         [255, 255, 255]],\n",
       " \n",
       "        [[255, 255, 255],\n",
       "         [255, 255, 255],\n",
       "         [255, 255, 255],\n",
       "         ...,\n",
       "         [255, 255, 255],\n",
       "         [255, 255, 255],\n",
       "         [255, 255, 255]],\n",
       " \n",
       "        [[255, 255, 255],\n",
       "         [255, 255, 255],\n",
       "         [255, 255, 255],\n",
       "         ...,\n",
       "         [255, 255, 255],\n",
       "         [255, 255, 255],\n",
       "         [255, 255, 255]]], dtype=uint8),\n",
       " 0]"
      ]
     },
     "execution_count": 11,
     "metadata": {},
     "output_type": "execute_result"
    }
   ],
   "source": [
    "final_img[0]"
   ]
  },
  {
   "cell_type": "code",
   "execution_count": 12,
   "id": "2362a14d-d9f7-458d-a7da-636445e56f74",
   "metadata": {},
   "outputs": [],
   "source": [
    "# from above we can conform array and target have been set"
   ]
  },
  {
   "cell_type": "code",
   "execution_count": 13,
   "id": "b5b8d419-82ae-4908-8970-b8774b566116",
   "metadata": {},
   "outputs": [],
   "source": [
    "import numpy as np\n",
    "shuffle_array=np.random.shuffle(final_img)"
   ]
  },
  {
   "cell_type": "code",
   "execution_count": 14,
   "id": "d239d6ea-b43e-41b6-a7c2-fbe85bf496da",
   "metadata": {},
   "outputs": [],
   "source": [
    "# but all the recored were in seqence of all male initially  and then all female \n",
    "#  so we have performed random shuffling "
   ]
  },
  {
   "cell_type": "code",
   "execution_count": 15,
   "id": "b4d07afa-4879-4444-8c9c-2dd427fd693b",
   "metadata": {},
   "outputs": [],
   "source": [
    "x=[]\n",
    "y=[]\n",
    "for array,target in final_img:\n",
    "    x.append(array)\n",
    "    y.append(target)"
   ]
  },
  {
   "cell_type": "code",
   "execution_count": 16,
   "id": "6051519b-1a9d-44c4-8bf5-44beda318832",
   "metadata": {},
   "outputs": [],
   "source": [
    "# here we have seperated all arrays in x and all targets in y"
   ]
  },
  {
   "cell_type": "code",
   "execution_count": 17,
   "id": "ccc61cb3-a545-42cb-91a3-95764ed4f856",
   "metadata": {},
   "outputs": [],
   "source": [
    "x=np.array(x)\n",
    "y=np.array(y)"
   ]
  },
  {
   "cell_type": "code",
   "execution_count": 18,
   "id": "08542c34-b203-487d-bc1c-de33a7d8e1b2",
   "metadata": {},
   "outputs": [],
   "source": [
    "x=x/255"
   ]
  },
  {
   "cell_type": "code",
   "execution_count": 19,
   "id": "c15bd79a-caf6-45b1-bc69-09746541afbc",
   "metadata": {},
   "outputs": [],
   "source": [
    "# here we have carried out normalization of x"
   ]
  },
  {
   "cell_type": "code",
   "execution_count": 20,
   "id": "cfdec291-5374-40df-931a-25e7860cf82f",
   "metadata": {},
   "outputs": [
    {
     "data": {
      "text/plain": [
       "(11525, 50, 50, 3)"
      ]
     },
     "execution_count": 20,
     "metadata": {},
     "output_type": "execute_result"
    }
   ],
   "source": [
    "x.shape"
   ]
  },
  {
   "cell_type": "code",
   "execution_count": 21,
   "id": "790f44f2-3554-40e9-ae32-2d4c0598d67c",
   "metadata": {},
   "outputs": [],
   "source": [
    "### now data is ready for model building "
   ]
  },
  {
   "cell_type": "code",
   "execution_count": 22,
   "id": "13c663f8-fad6-44c3-a482-9a641b2c0811",
   "metadata": {},
   "outputs": [],
   "source": [
    "x_train=x[0:8500]"
   ]
  },
  {
   "cell_type": "code",
   "execution_count": 23,
   "id": "adbffc9e-91e5-4847-a584-f067f363eeaa",
   "metadata": {},
   "outputs": [],
   "source": [
    "y_train=y[0:8500]"
   ]
  },
  {
   "cell_type": "code",
   "execution_count": 24,
   "id": "91b64483-4ae7-4d8c-a24f-3d904743ca17",
   "metadata": {},
   "outputs": [],
   "source": [
    "x_test=x[8500:]"
   ]
  },
  {
   "cell_type": "code",
   "execution_count": 25,
   "id": "b9f5fa80-5b2e-49ab-9a54-da85581e12e2",
   "metadata": {},
   "outputs": [],
   "source": [
    "y_test=y[8500:]"
   ]
  },
  {
   "cell_type": "code",
   "execution_count": 26,
   "id": "05cc0d41-8107-4931-93c8-5ad359ae6c41",
   "metadata": {},
   "outputs": [],
   "source": [
    "# we have spitted our data in trainning sets and testing sets"
   ]
  },
  {
   "cell_type": "code",
   "execution_count": 27,
   "id": "dd504d5e-5408-48fe-9800-7bbf9c633093",
   "metadata": {},
   "outputs": [],
   "source": [
    "import tensorflow as tf\n",
    "import keras "
   ]
  },
  {
   "cell_type": "code",
   "execution_count": 28,
   "id": "e1d5316b-2ada-404d-be14-bf781d98d522",
   "metadata": {},
   "outputs": [],
   "source": [
    "# we have imported required libraries for model initialization"
   ]
  },
  {
   "cell_type": "code",
   "execution_count": 29,
   "id": "f52535d4-4e82-4d2b-ba0a-1a32ccf99205",
   "metadata": {},
   "outputs": [],
   "source": [
    "model=tf.keras.models.Sequential()\n"
   ]
  },
  {
   "cell_type": "code",
   "execution_count": 30,
   "id": "c0fada82-dc29-4c13-adea-fad1dbd12829",
   "metadata": {},
   "outputs": [],
   "source": [
    "model.add(tf.keras.layers.Conv2D(filters=24,kernel_size=(5,5),activation='relu',padding='same',input_shape=x.shape[1:]))\n",
    "#model.add(Max_Pool_2D(pool_size=(2,2)))\n",
    "tf.keras.layers.MaxPool2D(pool_size=(3,3))\n",
    "\n",
    "model.add(tf.keras.layers.Flatten())"
   ]
  },
  {
   "cell_type": "code",
   "execution_count": 31,
   "id": "4ae375ca-43a7-42ca-9f3f-71740a00aa3b",
   "metadata": {},
   "outputs": [],
   "source": [
    "# midel is initialized and here we have added all required layers\n",
    "# 1) first layer is convocutional layer with no 24 no of kerenals and kerenal size is (5*5). we have used activation function as relu and input shape is given\n",
    "# 2)output of convocutional layer is given as input for poolar layer and we have used Maxpooling with the shape of (3*3) which is aslo an hyperparameter \n",
    "#3) in the third layer, we have converted output of maxpoolar layer(i.e matrix) to input for hidden layer by flattening the matrix "
   ]
  },
  {
   "cell_type": "code",
   "execution_count": 32,
   "id": "7bf130b9-eefc-41f1-8e7c-66ad835ebbe2",
   "metadata": {},
   "outputs": [],
   "source": [
    "model.add(tf.keras.layers.Dense(20,activation=tf.nn.relu))\n",
    "model.add(tf.keras.layers.Dense(20,activation=tf.nn.relu))\n",
    "#model.add(tf.keras.layers.Dense(90,activation=tf.nn.relu))\n",
    "model.add(tf.keras.layers.Dense(2,activation=tf.nn.softmax))"
   ]
  },
  {
   "cell_type": "code",
   "execution_count": 33,
   "id": "be576727-bf93-4715-b959-693c690cd17e",
   "metadata": {},
   "outputs": [],
   "source": [
    "# we have added two hidden layer with dencity of 20 nuron each evry nuron is having activation function as relu\n",
    "# in output layer we have two nurons and activation function we have used is softmax which is usefull for output prediction"
   ]
  },
  {
   "cell_type": "code",
   "execution_count": 34,
   "id": "5880b7a9-df9d-4caf-8641-07c276f5dc61",
   "metadata": {},
   "outputs": [],
   "source": [
    "model.compile(optimizer='adam',loss='sparse_categorical_crossentropy',metrics=['accuracy'])"
   ]
  },
  {
   "cell_type": "code",
   "execution_count": 35,
   "id": "44a166ca-7f0b-49fa-8d64-addd6113b912",
   "metadata": {},
   "outputs": [],
   "source": [
    "# here we have compile the model with optimizer as adam and we have calculated the loss using crossentropy"
   ]
  },
  {
   "cell_type": "code",
   "execution_count": 36,
   "id": "96942abf-a1b2-4cac-a62c-87fef16a98c7",
   "metadata": {},
   "outputs": [
    {
     "name": "stdout",
     "output_type": "stream",
     "text": [
      "Epoch 1/10\n",
      "213/213 [==============================] - 45s 193ms/step - loss: 0.5425 - accuracy: 0.7365 - val_loss: 0.3722 - val_accuracy: 0.8353\n",
      "Epoch 2/10\n",
      "213/213 [==============================] - 38s 181ms/step - loss: 0.3751 - accuracy: 0.8407 - val_loss: 0.4124 - val_accuracy: 0.8241\n",
      "Epoch 3/10\n",
      "213/213 [==============================] - 44s 206ms/step - loss: 0.3260 - accuracy: 0.8618 - val_loss: 0.3690 - val_accuracy: 0.8382\n",
      "Epoch 4/10\n",
      "213/213 [==============================] - 47s 222ms/step - loss: 0.2971 - accuracy: 0.8735 - val_loss: 0.3926 - val_accuracy: 0.8335\n",
      "Epoch 5/10\n",
      "213/213 [==============================] - 41s 192ms/step - loss: 0.2718 - accuracy: 0.8831 - val_loss: 0.3605 - val_accuracy: 0.8453\n",
      "Epoch 6/10\n",
      "213/213 [==============================] - 42s 198ms/step - loss: 0.2587 - accuracy: 0.8934 - val_loss: 0.3098 - val_accuracy: 0.8724\n",
      "Epoch 7/10\n",
      "213/213 [==============================] - 40s 187ms/step - loss: 0.2396 - accuracy: 0.9043 - val_loss: 0.3979 - val_accuracy: 0.8465\n",
      "Epoch 8/10\n",
      "213/213 [==============================] - 36s 171ms/step - loss: 0.2199 - accuracy: 0.9106 - val_loss: 0.2911 - val_accuracy: 0.8829\n",
      "Epoch 9/10\n",
      "213/213 [==============================] - 37s 172ms/step - loss: 0.1987 - accuracy: 0.9204 - val_loss: 0.2959 - val_accuracy: 0.8818\n",
      "Epoch 10/10\n",
      "213/213 [==============================] - 37s 172ms/step - loss: 0.1843 - accuracy: 0.9265 - val_loss: 0.2899 - val_accuracy: 0.8835\n"
     ]
    },
    {
     "data": {
      "text/plain": [
       "<keras.callbacks.History at 0x1cb330955e0>"
      ]
     },
     "execution_count": 36,
     "metadata": {},
     "output_type": "execute_result"
    }
   ],
   "source": [
    "model.fit(x_train,y_train,batch_size=32,epochs=10,validation_split=0.2)"
   ]
  },
  {
   "cell_type": "code",
   "execution_count": 37,
   "id": "1841585c-705d-4537-b362-744aa0ea00ba",
   "metadata": {},
   "outputs": [],
   "source": [
    "# now model is trained on trannind datasets and validated on validation dataset"
   ]
  },
  {
   "cell_type": "code",
   "execution_count": 38,
   "id": "ff8f64c1-5977-40e1-b2e6-a14460863032",
   "metadata": {},
   "outputs": [
    {
     "name": "stdout",
     "output_type": "stream",
     "text": [
      "95/95 [==============================] - 6s 60ms/step\n"
     ]
    }
   ],
   "source": [
    "y_pred=model.predict(x_test)"
   ]
  },
  {
   "cell_type": "code",
   "execution_count": 39,
   "id": "0e715666-02cf-481e-ba93-4b1201ec23ec",
   "metadata": {},
   "outputs": [],
   "source": [
    "# here we carried out prediction on testing dataset"
   ]
  },
  {
   "cell_type": "code",
   "execution_count": 40,
   "id": "cb024855-9854-43a8-99f2-ab7a55caf033",
   "metadata": {},
   "outputs": [
    {
     "data": {
      "text/plain": [
       "array([[0.9737327 , 0.02626728],\n",
       "       [0.02911377, 0.9708862 ],\n",
       "       [0.9964569 , 0.00354304],\n",
       "       ...,\n",
       "       [0.53385574, 0.46614417],\n",
       "       [0.00211408, 0.9978859 ],\n",
       "       [0.00302146, 0.9969785 ]], dtype=float32)"
      ]
     },
     "execution_count": 40,
     "metadata": {},
     "output_type": "execute_result"
    }
   ],
   "source": [
    "y_pred"
   ]
  },
  {
   "cell_type": "code",
   "execution_count": 41,
   "id": "3276596e-0a55-47a6-975e-061388ccd316",
   "metadata": {},
   "outputs": [],
   "source": [
    "final_pred=np.argmax(y_pred,axis=1)\n",
    "#final_pred\n"
   ]
  },
  {
   "cell_type": "code",
   "execution_count": 42,
   "id": "5fe1d2ea-e50e-4d83-9e38-fddb852f9ece",
   "metadata": {},
   "outputs": [
    {
     "data": {
      "text/plain": [
       "array([0, 1, 0, ..., 0, 1, 1], dtype=int64)"
      ]
     },
     "execution_count": 42,
     "metadata": {},
     "output_type": "execute_result"
    }
   ],
   "source": [
    "final_pred"
   ]
  },
  {
   "cell_type": "code",
   "execution_count": 43,
   "id": "625392b5-67e8-49cb-b39a-2494af5d1079",
   "metadata": {},
   "outputs": [],
   "source": [
    "from sklearn.metrics import confusion_matrix"
   ]
  },
  {
   "cell_type": "code",
   "execution_count": 44,
   "id": "9e3c022b-ef68-4cd8-ab99-ad763d3509b7",
   "metadata": {},
   "outputs": [
    {
     "data": {
      "text/plain": [
       "array([[1442,  175],\n",
       "       [ 162, 1246]], dtype=int64)"
      ]
     },
     "execution_count": 44,
     "metadata": {},
     "output_type": "execute_result"
    }
   ],
   "source": [
    "confusion_matrix(y_test,final_pred)"
   ]
  },
  {
   "cell_type": "code",
   "execution_count": 45,
   "id": "0c4ba962-1c7a-4135-9b1f-dd118394f185",
   "metadata": {},
   "outputs": [],
   "source": [
    "from sklearn import metrics"
   ]
  },
  {
   "cell_type": "code",
   "execution_count": 46,
   "id": "967133ac-a9bf-4484-a9b1-260370e70ccd",
   "metadata": {},
   "outputs": [
    {
     "data": {
      "text/plain": [
       "0.888595041322314"
      ]
     },
     "execution_count": 46,
     "metadata": {},
     "output_type": "execute_result"
    }
   ],
   "source": [
    "metrics.accuracy_score(y_test,final_pred)"
   ]
  },
  {
   "cell_type": "code",
   "execution_count": 47,
   "id": "452a9572-1884-4031-9fce-f34bbf967ef8",
   "metadata": {},
   "outputs": [],
   "source": [
    "model.save('gender_prediction_using_eyes.h5')"
   ]
  },
  {
   "cell_type": "code",
   "execution_count": 49,
   "id": "08b77e94-4a06-40cb-a1f9-5ddb0b39b6d9",
   "metadata": {},
   "outputs": [
    {
     "data": {
      "text/plain": [
       "'D:\\\\'"
      ]
     },
     "execution_count": 49,
     "metadata": {},
     "output_type": "execute_result"
    }
   ],
   "source": [
    "pwd"
   ]
  },
  {
   "cell_type": "code",
   "execution_count": 50,
   "id": "acfd51f2-f4f3-4846-8892-31c06102c4c6",
   "metadata": {},
   "outputs": [],
   "source": [
    "from keras.models import load_model"
   ]
  },
  {
   "cell_type": "code",
   "execution_count": 51,
   "id": "0ba5f7d0-bea2-411d-911b-a1f2cce787fe",
   "metadata": {},
   "outputs": [],
   "source": [
    "eye_model=load_model('gender_prediction_using_eyes.h5')"
   ]
  },
  {
   "cell_type": "code",
   "execution_count": null,
   "id": "74910368-2032-42f2-b9ff-39d489247401",
   "metadata": {},
   "outputs": [],
   "source": []
  }
 ],
 "metadata": {
  "kernelspec": {
   "display_name": "Python 3 (ipykernel)",
   "language": "python",
   "name": "python3"
  },
  "language_info": {
   "codemirror_mode": {
    "name": "ipython",
    "version": 3
   },
   "file_extension": ".py",
   "mimetype": "text/x-python",
   "name": "python",
   "nbconvert_exporter": "python",
   "pygments_lexer": "ipython3",
   "version": "3.9.12"
  }
 },
 "nbformat": 4,
 "nbformat_minor": 5
}
